{
 "cells": [
  {
   "cell_type": "code",
   "execution_count": null,
   "id": "64a55749",
   "metadata": {},
   "outputs": [],
   "source": [
    "# If running in Google Colab, uncomment the following lines to install necessary packages\n",
    "#!pip install warp-lang==1.7.0\n",
    "#!pip install --upgrade git+https://github.com/psheehan/pinball-warp.git"
   ]
  },
  {
   "cell_type": "code",
   "execution_count": 1,
   "id": "6ced7049",
   "metadata": {},
   "outputs": [],
   "source": [
    "from pinballrt.sources import Star\n",
    "from pinballrt.grids import UniformCartesianGrid\n",
    "from pinballrt.model import Model\n",
    "\n",
    "import matplotlib.pyplot as plt\n",
    "import astropy.units as u\n",
    "import numpy as np"
   ]
  },
  {
   "cell_type": "code",
   "execution_count": 2,
   "id": "0d7c5715",
   "metadata": {},
   "outputs": [],
   "source": [
    "star = Star()\n",
    "star.set_blackbody_spectrum()"
   ]
  },
  {
   "cell_type": "code",
   "execution_count": 3,
   "id": "a8890f61",
   "metadata": {},
   "outputs": [
    {
     "name": "stderr",
     "output_type": "stream",
     "text": [
      "Warp CUDA error: Could not open libcuda.so.\n",
      "Warp CUDA error: Function cuDriverGetVersion_f: a suitable driver entry point was not found\n",
      "Warp CUDA error 36 (in function cuda_driver_version, /builds/omniverse/warp/warp/native/warp.cu:1719)\n"
     ]
    },
    {
     "name": "stdout",
     "output_type": "stream",
     "text": [
      "Warp 1.7.0 initialized:\n",
      "   CUDA Toolkit 12.8, Driver 0.0 (insufficient CUDA driver version!)\n",
      "   Devices:\n",
      "     \"cpu\"      : \"x86_64\"\n",
      "   Kernel cache:\n",
      "     /home/codespace/.cache/warp/1.7.0\n",
      "Warp UserWarning: \n",
      "   Insufficient CUDA driver version.\n",
      "   The minimum required CUDA driver version is 12.0, but the installed CUDA driver version is 0.0.\n",
      "   Visit https://github.com/NVIDIA/warp/blob/main/README.md#installing for guidance.\n"
     ]
    },
    {
     "name": "stderr",
     "output_type": "stream",
     "text": [
      "/opt/conda/envs/warp/lib/python3.13/site-packages/astropy/units/quantity.py:658: RuntimeWarning: overflow encountered in expm1\n",
      "  result = super().__array_ufunc__(function, method, *arrays, **kwargs)\n",
      "/opt/conda/envs/warp/lib/python3.13/site-packages/astropy/units/quantity.py:658: RuntimeWarning: overflow encountered in multiply\n",
      "  result = super().__array_ufunc__(function, method, *arrays, **kwargs)\n",
      "/opt/conda/envs/warp/lib/python3.13/site-packages/astropy/units/quantity.py:658: RuntimeWarning: overflow encountered in expm1\n",
      "  result = super().__array_ufunc__(function, method, *arrays, **kwargs)\n",
      "/opt/conda/envs/warp/lib/python3.13/site-packages/astropy/units/quantity.py:658: RuntimeWarning: overflow encountered in multiply\n",
      "  result = super().__array_ufunc__(function, method, *arrays, **kwargs)\n"
     ]
    }
   ],
   "source": [
    "model = Model(grid=UniformCartesianGrid, grid_kwargs={\"ncells\":9, \"dx\":2.0*u.au})\n",
    "\n",
    "density = np.ones(model.grid.shape)*1.0e-16 * u.g / u.cm**3\n",
    "\n",
    "model.add_density(density, \"yso.dst\")\n",
    "model.add_star(star)"
   ]
  },
  {
   "cell_type": "code",
   "execution_count": 4,
   "id": "47dca2cd",
   "metadata": {},
   "outputs": [
    {
     "name": "stdout",
     "output_type": "stream",
     "text": [
      "Iteration 0\n",
      "Module pinballrt.sources f5dedf3 load on device 'cpu' took 429.74 ms  (cached)\n",
      "Module pinballrt.grids c31ad99 load on device 'cpu' took 10963.46 ms  (compiled)\n",
      "Module pinballrt.utils 08b2efb load on device 'cpu' took 93.11 ms  (cached)\n"
     ]
    },
    {
     "name": "stderr",
     "output_type": "stream",
     "text": [
      "100%|██████████| 1000000/1000000 [00:05<00:00, 193382.96it/s]\n"
     ]
    },
    {
     "name": "stdout",
     "output_type": "stream",
     "text": [
      "0\n",
      "Iteration 1\n"
     ]
    },
    {
     "name": "stderr",
     "output_type": "stream",
     "text": [
      "100%|██████████| 1000000/1000000 [00:44<00:00, 22717.21it/s]\n"
     ]
    },
    {
     "name": "stdout",
     "output_type": "stream",
     "text": [
      "1\n",
      "Iteration 2\n"
     ]
    },
    {
     "name": "stderr",
     "output_type": "stream",
     "text": [
      "100%|██████████| 1000000/1000000 [00:43<00:00, 23126.34it/s]\n"
     ]
    },
    {
     "name": "stdout",
     "output_type": "stream",
     "text": [
      "2 1.1618974 235.4313\n",
      "Iteration 3\n"
     ]
    },
    {
     "name": "stderr",
     "output_type": "stream",
     "text": [
      "100%|██████████| 1000000/1000000 [00:43<00:00, 22877.42it/s]"
     ]
    },
    {
     "name": "stdout",
     "output_type": "stream",
     "text": [
      "3 1.1753631 1.0115894\n"
     ]
    },
    {
     "name": "stderr",
     "output_type": "stream",
     "text": [
      "\n"
     ]
    }
   ],
   "source": [
    "model.thermal_mc(nphotons=1000000, device=\"cpu\")"
   ]
  },
  {
   "cell_type": "code",
   "execution_count": 5,
   "id": "fa5b80fa",
   "metadata": {},
   "outputs": [
    {
     "data": {
      "image/png": "[encoded data removed]",
      "text/plain": [
       "<Figure size 640x480 with 2 Axes>"
      ]
     },
     "metadata": {},
     "output_type": "display_data"
    }
   ],
   "source": [
    "plt.imshow(model.grid_list[\"cpu\"][0].grid.temperature.numpy()[:,:,4])\n",
    "plt.colorbar()\n",
    "plt.show()"
   ]
  },
  {
   "cell_type": "code",
   "execution_count": 1,
   "id": "32322cc5",
   "metadata": {},
   "outputs": [
    {
     "ename": "NameError",
     "evalue": "name 'model' is not defined",
     "output_type": "error",
     "traceback": [
      "\u001b[31m---------------------------------------------------------------------------\u001b[39m",
      "\u001b[31mNameError\u001b[39m                                 Traceback (most recent call last)",
      "\u001b[36mCell\u001b[39m\u001b[36m \u001b[39m\u001b[32mIn[1]\u001b[39m\u001b[32m, line 1\u001b[39m\n\u001b[32m----> \u001b[39m\u001b[32m1\u001b[39m image = \u001b[43mmodel\u001b[49m.make_image(npix=\u001b[32m256\u001b[39m, pixel_size=\u001b[32m0.1\u001b[39m*u.arcsec, lam=np.array([\u001b[32m1.\u001b[39m, \u001b[32m1000.\u001b[39m])*u.micron, incl=\u001b[32m45.\u001b[39m, pa=\u001b[32m45.\u001b[39m, distance=\u001b[32m1.\u001b[39m*u.pc, device=\u001b[33m'\u001b[39m\u001b[33mcpu\u001b[39m\u001b[33m'\u001b[39m)\n",
      "\u001b[31mNameError\u001b[39m: name 'model' is not defined"
     ]
    }
   ],
   "source": [
    "image = model.make_image(npix=256, pixel_size=0.1*u.arcsec, lam=np.array([1., 1000.])*u.micron, incl=45., pa=45., distance=1.*u.pc, device='cpu')"
   ]
  },
  {
   "cell_type": "code",
   "execution_count": null,
   "id": "837dbdd1",
   "metadata": {},
   "outputs": [],
   "source": [
    "plt.imshow(image.intensity[:,:,0], origin=\"lower\", interpolation=\"none\")\n",
    "plt.show()"
   ]
  },
  {
   "cell_type": "code",
   "execution_count": null,
   "id": "028ad375",
   "metadata": {},
   "outputs": [],
   "source": []
  }
 ],
 "metadata": {
  "kernelspec": {
   "display_name": "warp",
   "language": "python",
   "name": "python3"
  },
  "language_info": {
   "codemirror_mode": {
    "name": "ipython",
    "version": 3
   },
   "file_extension": ".py",
   "mimetype": "text/x-python",
   "name": "python",
   "nbconvert_exporter": "python",
   "pygments_lexer": "ipython3",
   "version": "3.13.2"
  }
 },
 "nbformat": 4,
 "nbformat_minor": 5
}
