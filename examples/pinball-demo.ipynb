{
 "cells": [
  {
   "cell_type": "code",
   "execution_count": null,
   "id": "64a55749",
   "metadata": {},
   "outputs": [],
   "source": [
    "# If running in Google Colab, uncomment the following lines to install necessary packages\n",
    "#!pip install warp-lang==1.7.0\n",
    "#!pip install --upgrade git+https://github.com/psheehan/pinball-warp.git"
   ]
  },
  {
   "cell_type": "code",
   "execution_count": 1,
   "id": "6ced7049",
   "metadata": {},
   "outputs": [],
   "source": [
    "from pinballrt.sources import Star\n",
    "from pinballrt.grids import UniformCartesianGrid\n",
    "from pinballrt.model import Model\n",
    "\n",
    "import matplotlib.pyplot as plt\n",
    "import astropy.units as u\n",
    "import numpy as np"
   ]
  },
  {
   "cell_type": "code",
   "execution_count": 2,
   "id": "0d7c5715",
   "metadata": {},
   "outputs": [],
   "source": [
    "star = Star()\n",
    "star.set_blackbody_spectrum()"
   ]
  },
  {
   "cell_type": "code",
   "execution_count": 3,
   "id": "a8890f61",
   "metadata": {},
   "outputs": [
    {
     "name": "stdout",
     "output_type": "stream",
     "text": [
      "Warp 1.7.0 initialized:\n",
      "   CUDA Toolkit 12.8, Driver 0.0 (insufficient CUDA driver version!)\n",
      "   Devices:\n",
      "     \"cpu\"      : \"x86_64\"\n",
      "   Kernel cache:\n",
      "     /home/codespace/.cache/warp/1.7.0\n",
      "Warp UserWarning: \n",
      "   Insufficient CUDA driver version.\n",
      "   The minimum required CUDA driver version is 12.0, but the installed CUDA driver version is 0.0.\n",
      "   Visit https://github.com/NVIDIA/warp/blob/main/README.md#installing for guidance.\n"
     ]
    },
    {
     "name": "stderr",
     "output_type": "stream",
     "text": [
      "Warp CUDA error: Could not open libcuda.so.\n",
      "Warp CUDA error: Function cuDriverGetVersion_f: a suitable driver entry point was not found\n",
      "Warp CUDA error 36 (in function cuda_driver_version, /builds/omniverse/warp/warp/native/warp.cu:1719)\n",
      "/opt/conda/envs/warp/lib/python3.13/site-packages/astropy/units/quantity.py:658: RuntimeWarning: overflow encountered in expm1\n",
      "  result = super().__array_ufunc__(function, method, *arrays, **kwargs)\n",
      "/opt/conda/envs/warp/lib/python3.13/site-packages/astropy/units/quantity.py:658: RuntimeWarning: overflow encountered in multiply\n",
      "  result = super().__array_ufunc__(function, method, *arrays, **kwargs)\n",
      "/opt/conda/envs/warp/lib/python3.13/site-packages/astropy/units/quantity.py:658: RuntimeWarning: overflow encountered in expm1\n",
      "  result = super().__array_ufunc__(function, method, *arrays, **kwargs)\n",
      "/opt/conda/envs/warp/lib/python3.13/site-packages/astropy/units/quantity.py:658: RuntimeWarning: overflow encountered in multiply\n",
      "  result = super().__array_ufunc__(function, method, *arrays, **kwargs)\n"
     ]
    }
   ],
   "source": [
    "model = Model(grid=UniformCartesianGrid, grid_kwargs={\"ncells\":9, \"dx\":2.0*u.au})\n",
    "\n",
    "density = np.ones(model.grid.shape)*1.0e-16 * u.g / u.cm**3\n",
    "\n",
    "model.add_density(density, \"yso.dst\")\n",
    "model.add_star(star)"
   ]
  },
  {
   "cell_type": "code",
   "execution_count": 4,
   "id": "47dca2cd",
   "metadata": {},
   "outputs": [
    {
     "name": "stdout",
     "output_type": "stream",
     "text": [
      "Iteration 0\n",
      "Module pinballrt.sources f5dedf3 load on device 'cpu' took 4.44 ms  (cached)\n",
      "Module pinballrt.grids 237c235 load on device 'cpu' took 10662.48 ms  (compiled)\n",
      "Module pinballrt.utils 08b2efb load on device 'cpu' took 1.45 ms  (cached)\n"
     ]
    },
    {
     "name": "stderr",
     "output_type": "stream",
     "text": [
      "100%|██████████| 1000000/1000000 [00:04<00:00, 227489.85it/s]\n"
     ]
    },
    {
     "name": "stdout",
     "output_type": "stream",
     "text": [
      "0\n",
      "Iteration 1\n"
     ]
    },
    {
     "name": "stderr",
     "output_type": "stream",
     "text": [
      "100%|██████████| 1000000/1000000 [00:43<00:00, 23251.28it/s]\n"
     ]
    },
    {
     "name": "stdout",
     "output_type": "stream",
     "text": [
      "1\n",
      "Iteration 2\n"
     ]
    },
    {
     "name": "stderr",
     "output_type": "stream",
     "text": [
      "100%|██████████| 1000000/1000000 [00:43<00:00, 23147.92it/s]\n"
     ]
    },
    {
     "name": "stdout",
     "output_type": "stream",
     "text": [
      "2 1.1616004 230.01974\n",
      "Iteration 3\n"
     ]
    },
    {
     "name": "stderr",
     "output_type": "stream",
     "text": [
      "100%|██████████| 1000000/1000000 [00:52<00:00, 19069.58it/s]"
     ]
    },
    {
     "name": "stdout",
     "output_type": "stream",
     "text": [
      "3 1.192686 1.026761\n"
     ]
    },
    {
     "name": "stderr",
     "output_type": "stream",
     "text": [
      "\n"
     ]
    }
   ],
   "source": [
    "model.thermal_mc(nphotons=1000000, device=\"cpu\")"
   ]
  },
  {
   "cell_type": "code",
   "execution_count": 5,
   "id": "fa5b80fa",
   "metadata": {},
   "outputs": [
    {
     "data": {
      "image/png": "[encoded data removed]",
      "text/plain": [
       "<Figure size 640x480 with 2 Axes>"
      ]
     },
     "metadata": {},
     "output_type": "display_data"
    }
   ],
   "source": [
    "plt.imshow(model.grid_list[\"cpu\"][0].grid.temperature.numpy()[:,:,4])\n",
    "plt.colorbar()\n",
    "plt.show()"
   ]
  },
  {
   "cell_type": "code",
   "execution_count": 6,
   "id": "32322cc5",
   "metadata": {},
   "outputs": [
    {
     "name": "stderr",
     "output_type": "stream",
     "text": [
      "100%|██████████| 100000/100000 [00:06<00:00, 14506.65it/s]\n"
     ]
    },
    {
     "name": "stdout",
     "output_type": "stream",
     "text": [
      "Time: 7.548181772232056\n"
     ]
    },
    {
     "name": "stderr",
     "output_type": "stream",
     "text": [
      "100%|██████████| 100000/100000 [00:00<00:00, 548627.16it/s]\n"
     ]
    },
    {
     "name": "stdout",
     "output_type": "stream",
     "text": [
      "Time: 0.7414956092834473\n",
      "65536\n",
      "Module pinballrt.camera c7d3b15 load on device 'cpu' took 0.62 ms  (cached)\n"
     ]
    }
   ],
   "source": [
    "image = model.make_image(npix=256, pixel_size=0.2*u.arcsec, lam=np.array([1., 1000.])*u.micron, incl=45.*u.degree, pa=45.*u.degree, distance=1.*u.pc, device='cpu')"
   ]
  },
  {
   "cell_type": "code",
   "execution_count": 9,
   "id": "837dbdd1",
   "metadata": {},
   "outputs": [
    {
     "data": {
      "image/png": "[encoded data removed]",
      "text/plain": [
       "<Figure size 640x480 with 1 Axes>"
      ]
     },
     "metadata": {},
     "output_type": "display_data"
    }
   ],
   "source": [
    "plt.imshow(image.intensity[:,:,1], origin=\"lower\", interpolation=\"none\")\n",
    "plt.show()"
   ]
  },
  {
   "cell_type": "code",
   "execution_count": null,
   "id": "028ad375",
   "metadata": {},
   "outputs": [],
   "source": []
  }
 ],
 "metadata": {
  "kernelspec": {
   "display_name": "warp",
   "language": "python",
   "name": "python3"
  },
  "language_info": {
   "codemirror_mode": {
    "name": "ipython",
    "version": 3
   },
   "file_extension": ".py",
   "mimetype": "text/x-python",
   "name": "python",
   "nbconvert_exporter": "python",
   "pygments_lexer": "ipython3",
   "version": "3.13.2"
  }
 },
 "nbformat": 4,
 "nbformat_minor": 5
}
